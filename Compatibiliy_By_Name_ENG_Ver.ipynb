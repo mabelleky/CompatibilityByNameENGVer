{
 "cells": [
  {
   "cell_type": "code",
   "execution_count": 14,
   "metadata": {},
   "outputs": [
    {
     "name": "stdout",
     "output_type": "stream",
     "text": [
      "Enter your first name only: Mabel\n",
      "Enter your middle name only: Ka Yee\n",
      "6\n",
      "7\n"
     ]
    },
    {
     "data": {
      "text/plain": [
       "7"
      ]
     },
     "execution_count": 14,
     "metadata": {},
     "output_type": "execute_result"
    }
   ],
   "source": [
    "firstNameOfPerson1 = input(\"Enter your first name only: \")\n",
    "middleNameOfPerson1 = input(\"Enter your middle name only: \")\n",
    "p1FirstName = firstNameOfPerson1.upper()\n",
    "p1MiddleName = middleNameOfPerson1.upper()\n",
    "switcher = {\n",
    "    ' ': 0,\n",
    "    'A': 3,\n",
    "    'B': 3,\n",
    "    'C': 1,\n",
    "    'D': 2,\n",
    "    'E': 4,\n",
    "    'F': 3,\n",
    "    'G': 2,\n",
    "    'H': 3,\n",
    "    'I': 3,\n",
    "    'J': 2,\n",
    "    'K': 3,\n",
    "    'L': 2,\n",
    "    'M': 4,\n",
    "    'N': 3,\n",
    "    'O': 1,\n",
    "    'P': 2,\n",
    "    'Q': 2,\n",
    "    'R': 3,\n",
    "    'S': 1,\n",
    "    'T': 2,\n",
    "    'U': 1,\n",
    "    'V': 2,\n",
    "    'W': 4,\n",
    "    'X': 2,\n",
    "    'Y': 3,\n",
    "    'Z': 3        \n",
    "    }\n",
    "\n",
    "def CheckTotalCharStrokes(nameChar):\n",
    "    return switcher.get(nameChar, \"Invalid character(s) entered\")\n",
    "\n",
    "def GetTotalStrokesForName(name):\n",
    "    sumOfStrokes = 0\n",
    "    \n",
    "    if len(name) == 0:\n",
    "        return 0\n",
    "    else:\n",
    "        for letter in name:\n",
    "            charTotalStrokes = CheckTotalCharStrokes(letter)\n",
    "            if charTotalStrokes == \"Invalid character(s) entered\":\n",
    "                print(\"Invalid character(s) entered\")\n",
    "                return \n",
    "            else:\n",
    "                sumOfStrokes += charTotalStrokes\n",
    "    return sumOfStrokes\n",
    "    \n",
    "def OnesDigitOfTotalStrokes(pname):\n",
    "    sumOfStrokes = GetTotalStrokesForName(pname)\n",
    "    strSumOfStrokes = str(sumOfStrokes)\n",
    "    onesDigitPosition = len(strSumOfStrokes) - 1\n",
    "    strOnesDigit = strSumOfStrokes[onesDigitPosition]\n",
    "    print(int(strOnesDigit))\n",
    "    return(int(strOnesDigit))\n",
    "    \n",
    "def OnesDigitOfNum(num):\n",
    "    strNum = str(num)\n",
    "    onesDigitPosition = len(strNum) - 1\n",
    "    strOnesDigit = strNum[onesDigitPosition]\n",
    "    print(int(strOnesDigit))\n",
    "    return(int(strOnesDigit))\n",
    "\n",
    "def AddTwoNums(num1, num2):\n",
    "    totalNum = num1 + num2\n",
    "    return OnesDigitOfNum(totalNum)\n",
    "\n",
    "OnesDigitOfTotalStrokes(p1FirstName)\n",
    "OnesDigitOfTotalStrokes(p1MiddleName)\n",
    "\n",
    "# def SumOfOnesDigits():\n",
    "\n",
    "\n",
    "#lastNameOfPerson1 = input(\"Enter our last name only: \")\n",
    "\n",
    "#firstNameOfPerson2 = input(\"Enter the first name only of the person you want to match with: \")\n",
    "#middleNameOfPerson2 = input(\"Enter the middle name only of the person you're matching with: \")\n",
    "#lastNameOfPerson2 = input(\"Enter the last name only of the person you're matching with: \")\n",
    "\n",
    "# print(\"The first person's name is: \", firstNameOfPerson1)"
   ]
  },
  {
   "cell_type": "code",
   "execution_count": null,
   "metadata": {},
   "outputs": [],
   "source": []
  }
 ],
 "metadata": {
  "kernelspec": {
   "display_name": "Python 3",
   "language": "python",
   "name": "python3"
  },
  "language_info": {
   "codemirror_mode": {
    "name": "ipython",
    "version": 3
   },
   "file_extension": ".py",
   "mimetype": "text/x-python",
   "name": "python",
   "nbconvert_exporter": "python",
   "pygments_lexer": "ipython3",
   "version": "3.6.5"
  }
 },
 "nbformat": 4,
 "nbformat_minor": 2
}
